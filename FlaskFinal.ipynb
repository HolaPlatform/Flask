{
 "cells": [
  {
   "cell_type": "code",
   "execution_count": null,
   "source": [],
   "outputs": [],
   "metadata": {}
  },
  {
   "cell_type": "code",
   "execution_count": 1,
   "source": [
    "## import 하기\r\n",
    "import pymysql\r\n",
    "import pandas as pd\r\n",
    "import numpy as np\r\n",
    "import urllib.request\r\n",
    "import urllib.parse\r\n",
    "from bs4 import BeautifulSoup\r\n",
    "from urllib.request import urlopen\r\n",
    "import requests\r\n",
    "from urllib.request import urlretrieve # 이미지 경로를 파일로 저장\r\n",
    "import time\r\n",
    "from flask import Flask, request, jsonify, render_template, url_for, redirect\r\n",
    "import pymysql\r\n",
    "import pandas as pd\r\n",
    "import Classifier as cls\r\n",
    "import Regression as st\r\n",
    "import joblib\r\n",
    "from datetime import timedelta\r\n",
    "\r\n",
    "## DB 연결하기\r\n",
    "conn = pymysql.connect(\r\n",
    "    host='localhost',  # ip\r\n",
    "    port=3306,  # 방번호\r\n",
    "    user='root',  # user 이름\r\n",
    "    password='root',  # 비밀번호\r\n",
    "    db='db_test',  # db 이름\r\n",
    "    autocommit=True,\r\n",
    "    cursorclass=pymysql.cursors.DictCursor\r\n",
    "    )\r\n",
    "\r\n",
    "## hola_pick 커리문 설정하기\r\n",
    "cursor = conn.cursor()\r\n",
    "sql = 'SELECT NEWS_DATA.TITLE, NEWS_DATA.ARTICLE, NEWS_DATA.URL, NEWS_CLASSIFICATION.SENTIMENT_LABEL,\\\r\n",
    "    NEWS_CLASSIFICATION.IMPACT_SCORE, STOCK.STOCK_NAME, STOCK.WICS_s FROM NEWS_DATA\\\r\n",
    "    INNER JOIN NEWS_CLASSIFICATION ON NEWS_DATA.NO = NEWS_CLASSIFICATION.NO\\\r\n",
    "    LEFT JOIN STOCK ON NEWS_CLASSIFICATION.STOCK_INDEX = STOCK.STOCK_INDEX\\\r\n",
    "    WHERE NEWS_DATA.DATETIME BETWEEN \"2021-07-07 15:30:00\" AND \"2021-07-08 08:30:00\"\\\r\n",
    "    ORDER BY NEWS_CLASSIFICATION.IMPACT_SCORE DESC LIMIT 13, 4;'\r\n",
    "cursor.execute(sql)\r\n",
    "result = cursor.fetchall()\r\n",
    "\r\n",
    "## pandas dataframe화 하기\r\n",
    "df = pd.DataFrame(result)\r\n",
    "\r\n",
    "\r\n",
    "### 주식 예측값 함수\r\n",
    "def hola_sec_function(name='삼성전자', day=20):\r\n",
    "\r\n",
    "    # 종목명, 종목코드 불러오기\r\n",
    "    stock_code = pd.read_csv('./KOSPI_100.csv', dtype={'종목코드': str, '종목명': str})[['종목명', '종목코드']]\r\n",
    "    data_st, code_st = st.load_stocks_data(f'{name}', stock_code) # 종목명, 종목코드로 주가데이터 로드\r\n",
    "    stocks_st = st.Stocks(data_st)                # stocks 객체 생성\r\n",
    "    result_st = stocks_st.predict(code_st, int(day)) # 예측값 딕셔너리 형태로 반환\r\n",
    "    \r\n",
    "    data_cls, code_cls = cls.load_stocks_data(f'{name}', stock_code) # 종목명, 종목코드로 주가데이터 로드\r\n",
    "    stocks_cls = cls.Stocks(data_cls)                # stocks 객체 생성\r\n",
    "    stocks_cls.preprocessing()\r\n",
    "    sign_data = stocks_cls.stocksign(stocks_cls.data, int(day))                                  # stocks 객체안의 데이터 보조지표 생성 및 전처리\r\n",
    "    result_cls = stocks_cls.predict(sign_data, code_cls, int(day))                               # 예측값 딕셔너리 형태로 반환                            \r\n",
    "\r\n",
    "    return result_st, result_cls\r\n",
    "\r\n",
    "\r\n",
    "### Flask 실행하기\r\n",
    "# statick_folder 를 지정했습니다.\r\n",
    "app = Flask(__name__, static_url_path=\"\", static_folder=\"static\")\r\n",
    "app.config['JSON_AS_ASCII'] = False\r\n",
    "\r\n",
    "\r\n",
    "### 워드클라우드 페이지\r\n",
    "@app.route('/word_cloud')\r\n",
    "\r\n",
    "def word_cloud(): \r\n",
    "    return render_template('index_main.html',image_file_pos=\"2021-07-08_pos.png\", image_file_neg = '2021-07-08_neg.png')\r\n",
    "   \r\n",
    "\r\n",
    "### Hola_pick 페이지\r\n",
    "@app.route('/hola_pick')\r\n",
    "\r\n",
    "def test():\r\n",
    "    ## 뉴스의 제목과 기사를 가져오기\r\n",
    "    title_list = []\r\n",
    "    article_list = []\r\n",
    "\r\n",
    "    ## 이미 df는 영향력순으로 top4가 나왔으니 for문으로 제목과 기사 리스트 만들어주기\r\n",
    "    for i in range(4):\r\n",
    "        title_list.append(df['TITLE'][i])\r\n",
    "        a = df['ARTICLE'][i]\r\n",
    "        # 80자를 기준으로 자르기\r\n",
    "        article_list.append(a[:81] + '...')\r\n",
    "\r\n",
    "    # 각 기사에 맞는 이미지 지정해주기\r\n",
    "    return render_template('index_news.html', article_list = article_list, title_list = title_list, image_file0=\"0.jpg\", image_file1=\"1.jpg\", image_file2=\"2.jpg\", image_file3='3.jpg')\r\n",
    "\r\n",
    "### News 페이지\r\n",
    "@app.route('/news')\r\n",
    "\r\n",
    "def news():\r\n",
    "    ## Hola_pick에서 기사를 눌러 index값 받아오기\r\n",
    "    index = request.args.get('index', type = int)\r\n",
    "    \r\n",
    "    # html 리턴값 설정하기\r\n",
    "    file_name = str(index) + '.jpg'\r\n",
    "    title = df['TITLE'][index]\r\n",
    "    a = df['ARTICLE'][index]\r\n",
    "    article = a[:251] + '...'\r\n",
    "    url = df['URL'][index]\r\n",
    "    industry = df['WICS_s'][index]\r\n",
    "    sentiment = df['SENTIMENT_LABEL'][index]\r\n",
    "    impact = df['IMPACT_SCORE'][index]\r\n",
    "    stock = df['STOCK_NAME'][index]\r\n",
    "\r\n",
    "    # html 리턴값들과 이미지 설정하기\r\n",
    "    return render_template('index_news_detail.html', file_name = file_name, title = title, article = article, url = url,\r\n",
    "    industry = industry, sentiment = int(sentiment), impact = impact, stock = stock, up = \"up.png\", down = \"down.png\")\r\n",
    "\r\n",
    "### Stock 페이지\r\n",
    "@app.route('/stock')\r\n",
    "\r\n",
    "def stock():\r\n",
    "    # 해시태그를 클릭하면 index 받아오기(현재의 문제점은 \"\"안에 {{변수}}를 집어넣는 것)\r\n",
    "    # Input값, /?company=기업명&day=예측기간\r\n",
    "    input_company = request.args.get(\"company\") # company(기업명): ex) 삼성전자, SK하이닉스, LG화학, 카카오, NAVER, 현대차\r\n",
    "    input_day = request.args.get(\"day\")         # day(예측기간): ex) 5, 20, 60, 120\r\n",
    "\r\n",
    "    msg_st, msg_cls = hola_sec_function(input_company, input_day)\r\n",
    "\r\n",
    "    keys_st = []\r\n",
    "    values_st = []\r\n",
    "    for key, value in msg_st.items():\r\n",
    "        keys_st.append(key)\r\n",
    "        values_st.append(np.round(value,0))\r\n",
    "\r\n",
    "    keys_cls = []\r\n",
    "    values_cls = []\r\n",
    "    for key, value in msg_cls.items():\r\n",
    "        keys_cls.append(key)\r\n",
    "        values_cls.append(value)\r\n",
    "    print(values_st)\r\n",
    "    print(values_cls)\r\n",
    "    \r\n",
    "\r\n",
    "    ## top7 커리문 설정하기\r\n",
    "    cursor = conn.cursor()\r\n",
    "    sql = 'SELECT NEWS_DATA.TITLE, STOCK.STOCK_NAME, NEWS_CLASSIFICATION.IMPACT_SCORE FROM NEWS_DATA\\\r\n",
    "        INNER JOIN NEWS_CLASSIFICATION ON NEWS_DATA.NO = NEWS_CLASSIFICATION.NO\\\r\n",
    "        LEFT JOIN STOCK ON NEWS_CLASSIFICATION.STOCK_INDEX = STOCK.STOCK_INDEX\\\r\n",
    "        WHERE STOCK.STOCK_NAME = \"{0}\" AND (NEWS_DATA.DATETIME BETWEEN \"2021-07-07 15:30:00\" AND \"2021-07-08 08:30:00\") \\\r\n",
    "        ORDER BY NEWS_CLASSIFICATION.IMPACT_SCORE DESC limit 7;'.format(input_company)\r\n",
    "    cursor.execute(sql)\r\n",
    "    result = cursor.fetchall()\r\n",
    "\r\n",
    "    ## pandas dataframe화 하기\r\n",
    "    df = pd.DataFrame(result)\r\n",
    "\r\n",
    "    ## top10 뉴스 출력\r\n",
    "    title_list = []\r\n",
    "    for i in range(len(df)):\r\n",
    "        title_list.append(df['TITLE'][i])\r\n",
    "    if len(title_list) == 0: # 예외 처리\r\n",
    "        title_list.append('관련 뉴스가 없습니다.')\r\n",
    "\r\n",
    "\r\n",
    "    ## 신호등 커리문 설정하기\r\n",
    "    cursor = conn.cursor()\r\n",
    "    sql2 = 'SELECT COUNT(*) FROM NEWS_DATA \\\r\n",
    "        INNER JOIN NEWS_CLASSIFICATION ON NEWS_DATA.NO = NEWS_CLASSIFICATION.NO \\\r\n",
    "        LEFT JOIN STOCK ON NEWS_CLASSIFICATION.STOCK_INDEX = STOCK.STOCK_INDEX\\\r\n",
    "        WHERE STOCK.STOCK_NAME = \"{0}\" AND (NEWS_DATA.DATETIME BETWEEN \"2021-07-07 15:30:00\" AND \"2021-07-08 08:30:00\");'.format(input_company)\r\n",
    "    cursor.execute(sql2)\r\n",
    "    result2 = cursor.fetchall()\r\n",
    "\r\n",
    "    ## pandas dataframe화 하기\r\n",
    "    df2 = pd.DataFrame(result2)\r\n",
    "\r\n",
    "    ## 초록불 커리문 설정하기\r\n",
    "    cursor = conn.cursor()\r\n",
    "    sql3 = 'SELECT COUNT(*) FROM NEWS_DATA \\\r\n",
    "        INNER JOIN NEWS_CLASSIFICATION ON NEWS_DATA.NO = NEWS_CLASSIFICATION.NO \\\r\n",
    "        LEFT JOIN STOCK ON NEWS_CLASSIFICATION.STOCK_INDEX = STOCK.STOCK_INDEX\\\r\n",
    "        WHERE NEWS_CLASSIFICATION.SENTIMENT_LABEL = 1 AND \\\r\n",
    "        (NEWS_DATA.DATETIME BETWEEN \"2021-07-07 15:30:00\" AND \"2021-07-08 08:30:00\")\\\r\n",
    "        AND STOCK.STOCK_NAME = \"{0}\";'.format(input_company)\r\n",
    "    cursor.execute(sql3)\r\n",
    "    result3 = cursor.fetchall()\r\n",
    "\r\n",
    "    ## pandas dataframe화 하기\r\n",
    "    df3 = pd.DataFrame(result3)\r\n",
    "\r\n",
    "    ## 빨간불 커리문 설정하기\r\n",
    "    cursor = conn.cursor()\r\n",
    "    sql4 = 'SELECT COUNT(*) FROM NEWS_DATA \\\r\n",
    "        INNER JOIN NEWS_CLASSIFICATION ON NEWS_DATA.NO = NEWS_CLASSIFICATION.NO \\\r\n",
    "        LEFT JOIN STOCK ON NEWS_CLASSIFICATION.STOCK_INDEX = STOCK.STOCK_INDEX\\\r\n",
    "        WHERE NEWS_CLASSIFICATION.SENTIMENT_LABEL = 0 AND \\\r\n",
    "        (NEWS_DATA.DATETIME BETWEEN \"2021-07-07 15:30:00\" AND \"2021-07-08 08:30:00\")\\\r\n",
    "        AND STOCK.STOCK_NAME = \"{0}\";'.format(input_company)\r\n",
    "    cursor.execute(sql4)\r\n",
    "    result4 = cursor.fetchall()\r\n",
    "\r\n",
    "    ## pandas dataframe화 하기\r\n",
    "    df4 = pd.DataFrame(result4)\r\n",
    "\r\n",
    "    if df2['COUNT(*)'][0] * 0.7 <= df3['COUNT(*)'][0]:\r\n",
    "        light = 'green.png' # 초록불\r\n",
    "    elif df2['COUNT(*)'][0] * 0.7 <= df4['COUNT(*)'][0]:\r\n",
    "        light = 'red.png' # 빨간불\r\n",
    "    else:\r\n",
    "        light = 'yello.png' # 노란불\r\n",
    "        \r\n",
    "\r\n",
    "\r\n",
    "    return render_template('index_stocks.html', title_list = title_list, com = input_company, da = input_day, \r\n",
    "                            light = light, keys = keys_st, values = values_st, values_cls = values_cls)\r\n",
    "\r\n",
    "@app.route('/stocks', methods = ['POST', 'GET'])\r\n",
    "\r\n",
    "def stocks():\r\n",
    "    company = request.form['company']\r\n",
    "    day = request.form['day']\r\n",
    "\r\n",
    "    return redirect(url_for('stock', company='%s' % company, day='%s' % day))\r\n",
    "\r\n",
    "@app.route('/architecture')\r\n",
    "\r\n",
    "def architecture():\r\n",
    "    return render_template('index_architecture.html')\r\n",
    "\r\n",
    "if __name__ == '__main__':\r\n",
    "    # app.run()\r\n",
    "        app.run(port=5500)\r\n",
    "\r\n",
    "\r\n",
    "\r\n",
    "\r\n"
   ],
   "outputs": [
    {
     "output_type": "stream",
     "name": "stdout",
     "text": [
      " * Serving Flask app \"__main__\" (lazy loading)\n",
      " * Environment: production\n",
      "\u001b[31m   WARNING: This is a development server. Do not use it in a production deployment.\u001b[0m\n",
      "\u001b[2m   Use a production WSGI server instead.\u001b[0m\n",
      " * Debug mode: off\n"
     ]
    },
    {
     "output_type": "stream",
     "name": "stderr",
     "text": [
      " * Running on http://127.0.0.1:5500/ (Press CTRL+C to quit)\n",
      "127.0.0.1 - - [30/Aug/2021 17:01:14] \"\u001b[37mGET /hola_pick HTTP/1.1\u001b[0m\" 200 -\n",
      "127.0.0.1 - - [30/Aug/2021 17:01:16] \"\u001b[37mGET /news?index=0 HTTP/1.1\u001b[0m\" 200 -\n",
      "127.0.0.1 - - [30/Aug/2021 17:04:57] \"\u001b[37mGET /news?index=1 HTTP/1.1\u001b[0m\" 200 -\n",
      "127.0.0.1 - - [30/Aug/2021 17:05:01] \"\u001b[37mGET /news?index=2 HTTP/1.1\u001b[0m\" 200 -\n",
      "127.0.0.1 - - [30/Aug/2021 17:05:04] \"\u001b[37mGET /news?index=3 HTTP/1.1\u001b[0m\" 200 -\n"
     ]
    },
    {
     "output_type": "stream",
     "name": "stdout",
     "text": [
      "TODAY: 2021-07-08\n",
      "Row: 249\n",
      "Column: 6\n"
     ]
    },
    {
     "output_type": "stream",
     "name": "stderr",
     "text": [
      "WARNING:pystan:No module named 'stanfit4anon_model_dfdaf2b8ece8a02eb11f050ec701c0ec_441408390801908250'\n",
      "WARNING:pystan:Something went wrong while unpickling the StanModel. Consider recompiling.\n"
     ]
    },
    {
     "output_type": "stream",
     "name": "stdout",
     "text": [
      "TODAY: 2021-07-08\n",
      "(5964, 6)\n",
      "Preprocessing Done!!\n",
      "StockSign Done!!\n",
      "[80420.0, 80433.0, 80559.0, 80719.0, 80829.0, 80857.0, 80838.0, 80853.0, 80963.0, 81170.0, 81413.0, 81620.0, 81761.0, 81872.0, 82030.0, 82289.0, 82641.0, 83015.0, 83327.0, 83536.0]\n",
      "[1, 0, 1, 1, 0, 0, 0, 0, 0, 0, 0, 0, 0, 0, 0, 0, 0, 0, 0, 0]\n"
     ]
    },
    {
     "output_type": "stream",
     "name": "stderr",
     "text": [
      "127.0.0.1 - - [30/Aug/2021 17:06:31] \"\u001b[37mGET /stock?company=삼성전자&day=20 HTTP/1.1\u001b[0m\" 200 -\n",
      "INFO:werkzeug:127.0.0.1 - - [30/Aug/2021 17:06:31] \"\u001b[37mGET /stock?company=삼성전자&day=20 HTTP/1.1\u001b[0m\" 200 -\n",
      "127.0.0.1 - - [30/Aug/2021 17:06:46] \"\u001b[32mPOST /stocks HTTP/1.1\u001b[0m\" 302 -\n",
      "INFO:werkzeug:127.0.0.1 - - [30/Aug/2021 17:06:46] \"\u001b[32mPOST /stocks HTTP/1.1\u001b[0m\" 302 -\n",
      "WARNING:pystan:No module named 'stanfit4anon_model_dfdaf2b8ece8a02eb11f050ec701c0ec_441408390801908250'\n"
     ]
    },
    {
     "output_type": "stream",
     "name": "stdout",
     "text": [
      "TODAY: 2021-07-08\n",
      "Row: 249\n",
      "Column: 6\n"
     ]
    },
    {
     "output_type": "stream",
     "name": "stderr",
     "text": [
      "WARNING:pystan:Something went wrong while unpickling the StanModel. Consider recompiling.\n"
     ]
    },
    {
     "output_type": "stream",
     "name": "stdout",
     "text": [
      "TODAY: 2021-07-08\n",
      "(3450, 6)\n",
      "Preprocessing Done!!\n",
      "StockSign Done!!\n",
      "[274513.0, 269264.0, 268524.0, 270377.0, 270983.0, 270899.0, 271066.0, 270269.0, 265537.0, 265037.0, 266979.0, 267607.0, 267547.0, 267811.0, 267249.0, 262948.0, 263123.0, 266021.0, 267905.0, 269403.0]\n",
      "[0, 0, 0, 0, 0, 0, 0, 0, 0, 0, 0, 0, 0, 0, 0, 0, 0, 0, 0, 0]\n"
     ]
    },
    {
     "output_type": "stream",
     "name": "stderr",
     "text": [
      "127.0.0.1 - - [30/Aug/2021 17:06:55] \"\u001b[37mGET /stock?company=SK이노베이션&day=20 HTTP/1.1\u001b[0m\" 200 -\n",
      "INFO:werkzeug:127.0.0.1 - - [30/Aug/2021 17:06:55] \"\u001b[37mGET /stock?company=SK이노베이션&day=20 HTTP/1.1\u001b[0m\" 200 -\n",
      "127.0.0.1 - - [30/Aug/2021 17:06:55] \"\u001b[37mGET /images/yello.png HTTP/1.1\u001b[0m\" 200 -\n",
      "INFO:werkzeug:127.0.0.1 - - [30/Aug/2021 17:06:55] \"\u001b[37mGET /images/yello.png HTTP/1.1\u001b[0m\" 200 -\n",
      "127.0.0.1 - - [30/Aug/2021 17:10:51] \"\u001b[32mPOST /stocks HTTP/1.1\u001b[0m\" 302 -\n",
      "INFO:werkzeug:127.0.0.1 - - [30/Aug/2021 17:10:51] \"\u001b[32mPOST /stocks HTTP/1.1\u001b[0m\" 302 -\n"
     ]
    },
    {
     "output_type": "stream",
     "name": "stdout",
     "text": [
      "TODAY: 2021-07-08\n",
      "Row: 249\n",
      "Column: 6\n"
     ]
    },
    {
     "output_type": "stream",
     "name": "stderr",
     "text": [
      "WARNING:pystan:No module named 'stanfit4anon_model_dfdaf2b8ece8a02eb11f050ec701c0ec_441408390801908250'\n",
      "WARNING:pystan:Something went wrong while unpickling the StanModel. Consider recompiling.\n"
     ]
    },
    {
     "output_type": "stream",
     "name": "stdout",
     "text": [
      "TODAY: 2021-07-08\n",
      "(4996, 6)\n",
      "Preprocessing Done!!\n",
      "StockSign Done!!\n",
      "[851387.0, 848681.0, 844266.0, 838845.0, 834245.0, 831917.0, 831842.0, 832575.0, 832371.0, 830545.0, 828034.0, 826728.0, 828086.0, 832065.0, 837171.0, 841602.0, 844601.0, 847027.0, 850686.0, 856950.0]\n",
      "[0, 0, 0, 0, 0, 1, 0, 1, 1, 1, 1, 1, 1, 1, 1, 1, 1, 1, 1, 1]\n"
     ]
    },
    {
     "output_type": "stream",
     "name": "stderr",
     "text": [
      "127.0.0.1 - - [30/Aug/2021 17:11:00] \"\u001b[37mGET /stock?company=LG화학&day=20 HTTP/1.1\u001b[0m\" 200 -\n",
      "INFO:werkzeug:127.0.0.1 - - [30/Aug/2021 17:11:00] \"\u001b[37mGET /stock?company=LG화학&day=20 HTTP/1.1\u001b[0m\" 200 -\n",
      "127.0.0.1 - - [30/Aug/2021 17:11:16] \"\u001b[32mPOST /stocks HTTP/1.1\u001b[0m\" 302 -\n",
      "INFO:werkzeug:127.0.0.1 - - [30/Aug/2021 17:11:16] \"\u001b[32mPOST /stocks HTTP/1.1\u001b[0m\" 302 -\n"
     ]
    },
    {
     "output_type": "stream",
     "name": "stdout",
     "text": [
      "TODAY: 2021-07-08\n"
     ]
    },
    {
     "output_type": "stream",
     "name": "stderr",
     "text": [
      "WARNING:pystan:No module named 'stanfit4anon_model_dfdaf2b8ece8a02eb11f050ec701c0ec_441408390801908250'\n",
      "WARNING:pystan:Something went wrong while unpickling the StanModel. Consider recompiling.\n"
     ]
    },
    {
     "output_type": "stream",
     "name": "stdout",
     "text": [
      "Row: 249\n",
      "Column: 6\n"
     ]
    },
    {
     "output_type": "stream",
     "name": "stderr",
     "text": [
      "127.0.0.1 - - [30/Aug/2021 17:11:20] \"\u001b[32mPOST /stocks HTTP/1.1\u001b[0m\" 302 -\n",
      "INFO:werkzeug:127.0.0.1 - - [30/Aug/2021 17:11:20] \"\u001b[32mPOST /stocks HTTP/1.1\u001b[0m\" 302 -\n"
     ]
    },
    {
     "output_type": "stream",
     "name": "stdout",
     "text": [
      "TODAY: 2021-07-08\n",
      "TODAY: 2021-07-08\n",
      "Row: 249\n",
      "Column: 6\n",
      "(4996, 6)\n"
     ]
    },
    {
     "output_type": "stream",
     "name": "stderr",
     "text": [
      "WARNING:pystan:No module named 'stanfit4anon_model_dfdaf2b8ece8a02eb11f050ec701c0ec_441408390801908250'\n",
      "WARNING:pystan:Something went wrong while unpickling the StanModel. Consider recompiling.\n"
     ]
    },
    {
     "output_type": "stream",
     "name": "stdout",
     "text": [
      "Preprocessing Done!!\n",
      "StockSign Done!!\n",
      "TODAY: 2021-07-08\n",
      "[851387.0, 848681.0, 844266.0, 838845.0, 834245.0, 831917.0, 831842.0, 832575.0, 832371.0, 830545.0, 828034.0, 826728.0, 828086.0, 832065.0, 837171.0, 841602.0, 844601.0, 847027.0, 850686.0, 856950.0]\n",
      "[0, 0, 0, 0, 0, 1, 0, 1, 1, 1, 1, 1, 1, 1, 1, 1, 1, 1, 1, 1]\n",
      "(4996, 6)\n"
     ]
    },
    {
     "output_type": "stream",
     "name": "stderr",
     "text": [
      "127.0.0.1 - - [30/Aug/2021 17:11:31] \"\u001b[37mGET /stock?company=LG화학&day=20 HTTP/1.1\u001b[0m\" 200 -\n",
      "INFO:werkzeug:127.0.0.1 - - [30/Aug/2021 17:11:31] \"\u001b[37mGET /stock?company=LG화학&day=20 HTTP/1.1\u001b[0m\" 200 -\n"
     ]
    },
    {
     "output_type": "stream",
     "name": "stdout",
     "text": [
      "Preprocessing Done!!\n",
      "StockSign Done!!\n",
      "[851387.0, 848681.0, 844266.0, 838845.0, 834245.0, 831917.0, 831842.0, 832575.0, 832371.0, 830545.0, 828034.0, 826728.0, 828086.0, 832065.0, 837171.0, 841602.0, 844601.0, 847027.0, 850686.0, 856950.0]\n",
      "[0, 0, 0, 0, 0, 1, 0, 1, 1, 1, 1, 1, 1, 1, 1, 1, 1, 1, 1, 1]\n"
     ]
    },
    {
     "output_type": "stream",
     "name": "stderr",
     "text": [
      "127.0.0.1 - - [30/Aug/2021 17:11:34] \"\u001b[37mGET /stock?company=LG화학&day=20 HTTP/1.1\u001b[0m\" 200 -\n",
      "INFO:werkzeug:127.0.0.1 - - [30/Aug/2021 17:11:34] \"\u001b[37mGET /stock?company=LG화학&day=20 HTTP/1.1\u001b[0m\" 200 -\n"
     ]
    }
   ],
   "metadata": {}
  },
  {
   "cell_type": "code",
   "execution_count": null,
   "source": [],
   "outputs": [],
   "metadata": {}
  }
 ],
 "metadata": {
  "orig_nbformat": 4,
  "language_info": {
   "name": "python",
   "version": "3.8.10",
   "mimetype": "text/x-python",
   "codemirror_mode": {
    "name": "ipython",
    "version": 3
   },
   "pygments_lexer": "ipython3",
   "nbconvert_exporter": "python",
   "file_extension": ".py"
  },
  "kernelspec": {
   "name": "python3",
   "display_name": "Python 3.8.10 64-bit ('base': conda)"
  },
  "interpreter": {
   "hash": "183bbf6827d058c2a2fb0f4acdc0420849dda2b4380af0e437e38c64d798d8b7"
  }
 },
 "nbformat": 4,
 "nbformat_minor": 2
}